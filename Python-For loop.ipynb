{
 "cells": [
  {
   "cell_type": "markdown",
   "id": "c56f9d71-2454-4128-9599-8168486f6f6e",
   "metadata": {},
   "source": [
    "1. write a python program to print numbers from 1 to 10 using for loop."
   ]
  },
  {
   "cell_type": "code",
   "execution_count": 5,
   "id": "61ad2b61-7a1c-4fdf-89c3-5d9000fe2e4e",
   "metadata": {},
   "outputs": [
    {
     "name": "stdout",
     "output_type": "stream",
     "text": [
      "1,2,3,4,5,6,7,8,9,10,"
     ]
    }
   ],
   "source": [
    "for i in range(1,11):\n",
    "    print(i,end=\",\")"
   ]
  },
  {
   "cell_type": "markdown",
   "id": "415f9bab-a462-4be4-b159-44add749ebb9",
   "metadata": {},
   "source": [
    "2. Create a program that calculate the sum of all numbers in a list using for loop."
   ]
  },
  {
   "cell_type": "code",
   "execution_count": 8,
   "id": "83ca3307-ba39-43db-8504-69cf6a38adf0",
   "metadata": {},
   "outputs": [
    {
     "name": "stdout",
     "output_type": "stream",
     "text": [
      "The sum of numbers in the list is : 15\n"
     ]
    }
   ],
   "source": [
    "a=[1,2,3,4,5]\n",
    "sum=0\n",
    "for i in a:\n",
    "    sum=sum+i\n",
    "print(\"The sum of numbers in the list is :\",sum)"
   ]
  },
  {
   "cell_type": "markdown",
   "id": "49150f95-ccab-435e-8a60-8134606cef7f",
   "metadata": {},
   "source": [
    "3. Write a program to print the characters of the string in reverse order using for loop."
   ]
  },
  {
   "cell_type": "code",
   "execution_count": 15,
   "id": "0499c127-f989-4011-8cfb-5866c9c675bc",
   "metadata": {},
   "outputs": [
    {
     "name": "stdout",
     "output_type": "stream",
     "text": [
      "The reverse order of the given string is : atirsus\n"
     ]
    }
   ],
   "source": [
    "str=\"susrita\"\n",
    "for i in str:\n",
    "    rev_str=str[::-1]\n",
    "print(\"The reverse order of the given string is :\",rev_str)"
   ]
  },
  {
   "cell_type": "markdown",
   "id": "0ee6335c-1fd2-4539-b3fa-7455c18173d6",
   "metadata": {},
   "source": [
    "4. DEvelop a program that finds the factorial of a number using for loop."
   ]
  },
  {
   "cell_type": "code",
   "execution_count": 23,
   "id": "fe72ecab-b8d1-476c-b790-873794a457e1",
   "metadata": {},
   "outputs": [
    {
     "name": "stdin",
     "output_type": "stream",
     "text": [
      "Enter a number 7\n"
     ]
    },
    {
     "name": "stdout",
     "output_type": "stream",
     "text": [
      "5040\n"
     ]
    }
   ],
   "source": [
    "n=int(input(\"Enter a number\"))\n",
    "fact=1\n",
    "for i in range(1,n+1):\n",
    "    fact=fact*i\n",
    "print(fact)"
   ]
  },
  {
   "cell_type": "markdown",
   "id": "a84a1fa4-5a91-45e1-a1b2-6ed5bab934e9",
   "metadata": {},
   "source": [
    "5. Create a program to print the multiplication of a table of a given number using a for loop."
   ]
  },
  {
   "cell_type": "code",
   "execution_count": 26,
   "id": "8014b808-64fc-416c-af23-8fe223aa2529",
   "metadata": {},
   "outputs": [
    {
     "name": "stdin",
     "output_type": "stream",
     "text": [
      "Enter a numer 5\n"
     ]
    },
    {
     "name": "stdout",
     "output_type": "stream",
     "text": [
      "5 * 1 = 5\n",
      "5 * 2 = 10\n",
      "5 * 3 = 15\n",
      "5 * 4 = 20\n",
      "5 * 5 = 25\n",
      "5 * 6 = 30\n",
      "5 * 7 = 35\n",
      "5 * 8 = 40\n",
      "5 * 9 = 45\n",
      "5 * 10 = 50\n"
     ]
    }
   ],
   "source": [
    "n=int(input(\"Enter a numer\"))\n",
    "for i in range(1,11):\n",
    "    mul=n*i\n",
    "    print(n,\"*\",i,\"=\",mul)"
   ]
  },
  {
   "cell_type": "markdown",
   "id": "cf88cc3c-2828-4657-8dc8-b08fd19a2e3e",
   "metadata": {},
   "source": [
    "6. Write a program that counts even and odd numbers in the list using for loop."
   ]
  },
  {
   "cell_type": "code",
   "execution_count": 40,
   "id": "32cc4ce0-22f7-498a-b7c8-5a9f5415d8ee",
   "metadata": {},
   "outputs": [
    {
     "name": "stdout",
     "output_type": "stream",
     "text": [
      "The total no;of even nos are : 2\n",
      "The total number of odd numbers are : 5\n"
     ]
    }
   ],
   "source": [
    "b=[1,4,5,9,9,3,2]\n",
    "even,odd=0,0\n",
    "for i in b:\n",
    "    if i%2==0:\n",
    "        even+=1\n",
    "    else:\n",
    "        odd+=1\n",
    "print(\"The total no;of even nos are :\",even)\n",
    "print(\"The total number of odd numbers are :\",odd)\n",
    "    "
   ]
  },
  {
   "cell_type": "markdown",
   "id": "00db84b1-3756-4ebe-9164-5acc81eff099",
   "metadata": {},
   "source": [
    "7. Create a program that prints squares of a number from 1 to 5 using a for loop."
   ]
  },
  {
   "cell_type": "code",
   "execution_count": 41,
   "id": "382ca47a-e737-4de5-866b-4bd6b1e2e01e",
   "metadata": {},
   "outputs": [
    {
     "name": "stdout",
     "output_type": "stream",
     "text": [
      "The square of 1 is = 1\n",
      "The square of 2 is = 4\n",
      "The square of 3 is = 9\n",
      "The square of 4 is = 16\n",
      "The square of 5 is = 25\n"
     ]
    }
   ],
   "source": [
    "for i in range(1,6):\n",
    "    sqr=i*i\n",
    "    print(\"The square of\",i,\"is =\",sqr)"
   ]
  },
  {
   "cell_type": "markdown",
   "id": "35f524cb-6f2f-442a-afe2-c91acf7258d6",
   "metadata": {},
   "source": [
    "8. Create a programm to find the length of a string without using len() function."
   ]
  },
  {
   "cell_type": "code",
   "execution_count": 42,
   "id": "324c8ec8-369f-42a3-91c6-6c9770de989f",
   "metadata": {},
   "outputs": [
    {
     "name": "stdout",
     "output_type": "stream",
     "text": [
      "The length of a function is : 10\n"
     ]
    }
   ],
   "source": [
    "name=\"This is me\"\n",
    "len=0\n",
    "for i in name:\n",
    "    len=len+1\n",
    "print(\"The length of a function is :\",len)"
   ]
  },
  {
   "cell_type": "markdown",
   "id": "9735dffe-aaf1-446d-9578-5d936a8775c9",
   "metadata": {},
   "source": [
    "9. Write a program that creates the average of a list of numbers using a for loop."
   ]
  },
  {
   "cell_type": "code",
   "execution_count": 62,
   "id": "97222a3c-b0fa-494d-b820-aa5c4ab1914e",
   "metadata": {},
   "outputs": [
    {
     "name": "stdout",
     "output_type": "stream",
     "text": [
      "The sum of nos is : 30\n",
      "The total no of values are : 10\n",
      "The average of the given list of nos is = 30 / 10 = 3\n"
     ]
    }
   ],
   "source": [
    "list=[2,4,6,8,10]\n",
    "sum,count=0,0\n",
    "for i in list:\n",
    "    sum=sum+i\n",
    "print(\"The sum of nos is :\",sum)\n",
    "count=count+i\n",
    "print(\"The total no of values are :\",count)\n",
    "avg=sum//count\n",
    "print(\"The average of the given list of nos is =\",sum,\"/\",count,\"=\",avg)"
   ]
  },
  {
   "cell_type": "markdown",
   "id": "dec00423-23e6-4a20-a3f1-9f8415e164b4",
   "metadata": {},
   "source": [
    "10. Develop a program that prints first n fibnociii numbers using for loop."
   ]
  },
  {
   "cell_type": "code",
   "execution_count": 65,
   "id": "b124628d-759a-4eb5-8f02-7664798c04b1",
   "metadata": {},
   "outputs": [
    {
     "name": "stdout",
     "output_type": "stream",
     "text": [
      "0\n",
      "1\n",
      "1,3,5,7,9,11,"
     ]
    }
   ],
   "source": [
    "n=7\n",
    "for i in range(0,n+1):\n",
    "    if i==0:\n",
    "        print(i)\n",
    "    elif i==1:\n",
    "        print(1)\n",
    "    else:\n",
    "        print((i-1)+(i-2),end=\",\")\n",
    "    "
   ]
  },
  {
   "cell_type": "markdown",
   "id": "6a228b38-47ba-4f90-9a53-0bf920ca0954",
   "metadata": {},
   "source": [
    "11. Write a program to check if any duplicates in the list using a for loop."
   ]
  },
  {
   "cell_type": "code",
   "execution_count": 2,
   "id": "569b7392-b649-434e-af9b-8a0601631f3a",
   "metadata": {},
   "outputs": [
    {
     "name": "stdout",
     "output_type": "stream",
     "text": [
      "{1, 2, 3, 4, 5}\n"
     ]
    }
   ],
   "source": [
    "list=[1,2,2,3,4,4,5]\n",
    "for i in list:\n",
    "    dup=set(list)\n",
    "print(dup)"
   ]
  },
  {
   "cell_type": "markdown",
   "id": "32b1278f-1ebf-4c8f-839f-c7558ecc203e",
   "metadata": {},
   "source": [
    "12. Create a program that print prime numbers in a given range using a for loop."
   ]
  },
  {
   "cell_type": "code",
   "execution_count": 6,
   "id": "78842e61-60a6-4df1-a9e6-b4793653776f",
   "metadata": {},
   "outputs": [
    {
     "name": "stdout",
     "output_type": "stream",
     "text": [
      "1,3,5,7,9,11,13,15,17,19,21,23,25,27,29,31,33,35,37,39,41,43,45,47,49,"
     ]
    }
   ],
   "source": [
    "for i in range(1,51):\n",
    "    if i%2!=0:\n",
    "        print(i,end=\",\")"
   ]
  },
  {
   "cell_type": "markdown",
   "id": "63a5e132-0622-4b11-b273-78aa9e49157b",
   "metadata": {},
   "source": [
    "13. DEvelop a program that counts the no:of vowels using for loop."
   ]
  },
  {
   "cell_type": "code",
   "execution_count": 31,
   "id": "cd7b3ee9-2ed0-45d1-a7d3-e7a2efdecc45",
   "metadata": {},
   "outputs": [
    {
     "name": "stdout",
     "output_type": "stream",
     "text": [
      "The no of vowels are : 3\n"
     ]
    }
   ],
   "source": [
    "str=\"susrita\"\n",
    "count=0\n",
    "vowel = \"aeiouAEIOU\"\n",
    "for i in str:\n",
    "    if i in vowel:\n",
    "        count+=1\n",
    "print(\"The no of vowels are :\",count)"
   ]
  },
  {
   "cell_type": "markdown",
   "id": "0664f0ae-1215-487d-adfd-12a4f20f34d4",
   "metadata": {},
   "source": [
    "14. Write a program to find the maximum element in a 2D list using nested for loop."
   ]
  },
  {
   "cell_type": "code",
   "execution_count": 44,
   "id": "489f486a-e9a8-493f-a55e-bb4f1f2ef12c",
   "metadata": {},
   "outputs": [
    {
     "name": "stdout",
     "output_type": "stream",
     "text": [
      "[10, 67]\n"
     ]
    }
   ],
   "source": [
    "a = [[2,9,10],[20,45,67]]\n",
    "lis = []\n",
    "for p in a:\n",
    "    p.sort()\n",
    "    lis.append(p[-1])\n",
    "print(lis)"
   ]
  },
  {
   "cell_type": "markdown",
   "id": "86a94219-3427-4fab-9c92-a0d7f16aa9c8",
   "metadata": {},
   "source": [
    "15. Create a program that remove all occurences of a specific element from list using for loop."
   ]
  },
  {
   "cell_type": "code",
   "execution_count": 4,
   "id": "70f237a2-c68b-409a-8b3b-4ba7959a7d51",
   "metadata": {},
   "outputs": [
    {
     "name": "stdout",
     "output_type": "stream",
     "text": [
      "[1, 3, 4, 5]\n"
     ]
    }
   ],
   "source": [
    "b=[1,2,2,3,4,5]\n",
    "res=[]\n",
    "for i in b:\n",
    "    if i!=2:\n",
    "        res.append(i)\n",
    "print(res)"
   ]
  },
  {
   "cell_type": "markdown",
   "id": "40cf72ac-742a-4f32-ada2-3684e04a8858",
   "metadata": {},
   "source": [
    "16. Develop a program that generates multiplication table of nos from 1 to 5 using nested for loop."
   ]
  },
  {
   "cell_type": "code",
   "execution_count": 10,
   "id": "c9d5e9c4-6d9c-43a2-95e1-ffeb79da35da",
   "metadata": {},
   "outputs": [
    {
     "name": "stdout",
     "output_type": "stream",
     "text": [
      "1 * 1 = 1\n",
      "1 * 2 = 2\n",
      "1 * 3 = 3\n",
      "1 * 4 = 4\n",
      "1 * 5 = 5\n",
      "1 * 6 = 6\n",
      "1 * 7 = 7\n",
      "1 * 8 = 8\n",
      "1 * 9 = 9\n",
      "1 * 10 = 10\n",
      "2 * 1 = 2\n",
      "2 * 2 = 4\n",
      "2 * 3 = 6\n",
      "2 * 4 = 8\n",
      "2 * 5 = 10\n",
      "2 * 6 = 12\n",
      "2 * 7 = 14\n",
      "2 * 8 = 16\n",
      "2 * 9 = 18\n",
      "2 * 10 = 20\n",
      "3 * 1 = 3\n",
      "3 * 2 = 6\n",
      "3 * 3 = 9\n",
      "3 * 4 = 12\n",
      "3 * 5 = 15\n",
      "3 * 6 = 18\n",
      "3 * 7 = 21\n",
      "3 * 8 = 24\n",
      "3 * 9 = 27\n",
      "3 * 10 = 30\n",
      "4 * 1 = 4\n",
      "4 * 2 = 8\n",
      "4 * 3 = 12\n",
      "4 * 4 = 16\n",
      "4 * 5 = 20\n",
      "4 * 6 = 24\n",
      "4 * 7 = 28\n",
      "4 * 8 = 32\n",
      "4 * 9 = 36\n",
      "4 * 10 = 40\n"
     ]
    }
   ],
   "source": [
    "for i in range(1,5):\n",
    "    for j in range(1,11):\n",
    "        print(i,\"*\",j,\"=\",i*j)\n",
    "    "
   ]
  },
  {
   "cell_type": "markdown",
   "id": "06dfa2e4-764e-495a-860b-ac1225172916",
   "metadata": {},
   "source": [
    "17. Write a program that coverts a list of farenheit temperatures to celsius using for loop."
   ]
  },
  {
   "cell_type": "code",
   "execution_count": 14,
   "id": "b95b7828-57f5-4e90-b6e9-20ae232d1eae",
   "metadata": {},
   "outputs": [
    {
     "name": "stdout",
     "output_type": "stream",
     "text": [
      "The coversion of 140 farenheit temperature to celsius is = 60.0\n",
      "The coversion of 120 farenheit temperature to celsius is = 48.889\n",
      "The coversion of 108 farenheit temperature to celsius is = 42.222\n"
     ]
    }
   ],
   "source": [
    "far=[140,120,108]\n",
    "for i in far:\n",
    "    celsius = (i-32)/1.8\n",
    "    print(\"The coversion of\",i,\"farenheit temperature to celsius is =\",round(celsius,3))"
   ]
  },
  {
   "cell_type": "markdown",
   "id": "eb75ed58-fcc5-485c-9211-d05906f1f0cd",
   "metadata": {},
   "source": [
    "18. Create a program that print common elements from two list using for loop."
   ]
  },
  {
   "cell_type": "code",
   "execution_count": 18,
   "id": "a9526174-7ddc-47fc-a006-7cf8e90413a1",
   "metadata": {},
   "outputs": [
    {
     "name": "stdout",
     "output_type": "stream",
     "text": [
      "2\n",
      "4\n"
     ]
    }
   ],
   "source": [
    "a=[1,2,3,4]\n",
    "b=[4,2,5,6]\n",
    "for i in a:\n",
    "    for j in b:\n",
    "        if i==j:\n",
    "            print(i)\n",
    "        "
   ]
  },
  {
   "cell_type": "markdown",
   "id": "68bca86f-f788-4a9b-9634-11de4d6afc96",
   "metadata": {},
   "source": [
    "19. Write a program to that print right angle pattern using for loop. Use \"*\" for the pattern."
   ]
  },
  {
   "cell_type": "code",
   "execution_count": 25,
   "id": "f935cbe1-2252-47b3-83bd-4c42a2a90e2c",
   "metadata": {},
   "outputs": [
    {
     "name": "stdout",
     "output_type": "stream",
     "text": [
      "*\n",
      "**\n",
      "***\n",
      "****\n",
      "*****\n",
      "******\n",
      "*******\n",
      "********\n"
     ]
    }
   ],
   "source": [
    "for i in range(1,9):\n",
    "    print(\"*\"*i)\n",
    "    "
   ]
  },
  {
   "cell_type": "markdown",
   "id": "bf4c60bb-8158-420f-90b4-e66dbc2e7291",
   "metadata": {},
   "source": [
    "20. Write a program to find the greatest common divisor (GCD) of two numbers using for loop."
   ]
  },
  {
   "cell_type": "code",
   "execution_count": 23,
   "id": "c46bc05e-e497-4d08-a591-c6ce5db3ee97",
   "metadata": {},
   "outputs": [
    {
     "name": "stdout",
     "output_type": "stream",
     "text": [
      "1\n",
      "3\n"
     ]
    }
   ],
   "source": [
    "a=3\n",
    "b=6\n",
    "if a>b:\n",
    "    tem=b\n",
    "else:\n",
    "    tem=a\n",
    "    for i in range(1,tem+1):\n",
    "        if a%i==0 and b%i==0:\n",
    "            print(i)"
   ]
  },
  {
   "cell_type": "markdown",
   "id": "a84630da-39d4-47e1-b8c4-fa3801b135d1",
   "metadata": {},
   "source": [
    "21. create a program that calculates the sum of digits of numbers in the list using list comprehension. "
   ]
  },
  {
   "cell_type": "code",
   "execution_count": 35,
   "id": "d4f10b6b-ce8c-4a1e-84a7-fddc27a22059",
   "metadata": {},
   "outputs": [
    {
     "name": "stdout",
     "output_type": "stream",
     "text": [
      "The sum of digits in the list is = 15\n"
     ]
    }
   ],
   "source": [
    "res=sum([i for i in range(1,6)])\n",
    "print(\"The sum of digits in the list is =\",res)"
   ]
  },
  {
   "cell_type": "markdown",
   "id": "072c8f59-47d4-4d98-890d-04295560e793",
   "metadata": {},
   "source": [
    "22. Write a program to find the prime factors of a given number using for loop and list comprehension."
   ]
  },
  {
   "cell_type": "code",
   "execution_count": 36,
   "id": "590a724f-e11a-47bf-8afd-b531cf61e5c8",
   "metadata": {},
   "outputs": [
    {
     "name": "stdout",
     "output_type": "stream",
     "text": [
      "[1, 2, 4, 8]\n"
     ]
    }
   ],
   "source": [
    "n=8\n",
    "res=[i for i in range(1,n+1) if n%i==0]\n",
    "print(res)"
   ]
  },
  {
   "cell_type": "markdown",
   "id": "1a20676b-d50f-4e58-8ee2-e323411ac9c8",
   "metadata": {},
   "source": [
    "23. Write a program that extracts unique elements from the list and stores them in a new list using for loop and list comprehension."
   ]
  },
  {
   "cell_type": "code",
   "execution_count": 44,
   "id": "e0c16e2f-9f56-45ef-ad8e-2e7bc5ed9d61",
   "metadata": {},
   "outputs": [
    {
     "name": "stdout",
     "output_type": "stream",
     "text": [
      "[1, 2, 3, 4, 5]\n"
     ]
    }
   ],
   "source": [
    "list=[1,2,2,3,4,4,5]\n",
    "new=set(list)\n",
    "res=[i for i in new]\n",
    "print(res)"
   ]
  },
  {
   "cell_type": "markdown",
   "id": "d8bf3034-f4ae-49d1-846c-b0e5113187d8",
   "metadata": {},
   "source": [
    "24. write a program that list the palindromic numbers upto specified limit using for loop and list comprehension."
   ]
  },
  {
   "cell_type": "code",
   "execution_count": 55,
   "id": "defad9ca-e38e-4e40-9d84-8f670a2b7d67",
   "metadata": {},
   "outputs": [
    {
     "name": "stdout",
     "output_type": "stream",
     "text": [
      "[11, 22, 33, 44, 55, 66, 77, 88, 99, 101, 111, 121, 131, 141, 151, 161, 171, 181, 191]\n"
     ]
    }
   ],
   "source": [
    "res=[i for i in range(11,201) if str(i)==str(i)[::-1]]\n",
    "print(res)"
   ]
  },
  {
   "cell_type": "markdown",
   "id": "2460b91b-61e2-4d84-a998-1052f96e6aac",
   "metadata": {},
   "source": [
    "25. write a program to flatten a nested list using list comprehension."
   ]
  },
  {
   "cell_type": "code",
   "execution_count": 62,
   "id": "1ac1fb99-7a39-47d9-84f2-0d8462446d00",
   "metadata": {},
   "outputs": [
    {
     "name": "stdout",
     "output_type": "stream",
     "text": [
      "[1, 2, 3, 4, 5, 6, 7, 8, 9]\n"
     ]
    }
   ],
   "source": [
    "list=[[1,2,3],[4,5,6],[7,8,9]]\n",
    "res=[j for i in list for j in i]\n",
    "print(res)"
   ]
  },
  {
   "cell_type": "markdown",
   "id": "1d9e5f3b-31d7-40fb-91e3-d30ee811f603",
   "metadata": {},
   "source": [
    "26. Develop a program that computes the sum of even and odd numbers in the list separately using list comprehension."
   ]
  },
  {
   "cell_type": "code",
   "execution_count": 10,
   "id": "6bed9bd8-5d96-4078-801e-0568c7946b1e",
   "metadata": {},
   "outputs": [
    {
     "name": "stdout",
     "output_type": "stream",
     "text": [
      "The sum of even number is = 12 \n",
      " The sum of odd number is = 9\n"
     ]
    }
   ],
   "source": [
    "list_num=[1,2,3,4,5,6]\n",
    "even,odd=sum([i for i in list_num if i%2==0]),sum([i for i in list_num if i%2!=0])\n",
    "print(\"The sum of even number is =\",even,\"\\n\",\"The sum of odd number is =\",odd)"
   ]
  },
  {
   "cell_type": "markdown",
   "id": "cf24c31c-bf6f-4e44-a694-32ce7dd75e73",
   "metadata": {},
   "source": [
    "27. Create a program that generates a list of squares of odd numbers between 1 and 10 using list comprehension."
   ]
  },
  {
   "cell_type": "code",
   "execution_count": 14,
   "id": "a38de182-de9a-4fb4-99ea-2b368c9e055d",
   "metadata": {},
   "outputs": [
    {
     "name": "stdout",
     "output_type": "stream",
     "text": [
      "[1, 9, 25, 49, 81]\n"
     ]
    }
   ],
   "source": [
    "list_sqr=[i*i for i in range(1,11) if i%2!=0]\n",
    "print(list_sqr)"
   ]
  },
  {
   "cell_type": "markdown",
   "id": "3172b606-f172-45a9-a1c7-121adee46040",
   "metadata": {},
   "source": [
    "28. Develop a program that extracts the vowels from a string and stores them in a list using list comprehension."
   ]
  },
  {
   "cell_type": "code",
   "execution_count": 16,
   "id": "8a0e512d-f6e2-49f0-a351-617915fc87c4",
   "metadata": {},
   "outputs": [
    {
     "name": "stdout",
     "output_type": "stream",
     "text": [
      "['a', 'e']\n"
     ]
    }
   ],
   "source": [
    "vowels=\"a,e,i,o,u,A,E,I,O,U\"\n",
    "str=\"apple\"\n",
    "res_vow=[i for i in str if i in vowels]\n",
    "print(res_vow)"
   ]
  },
  {
   "cell_type": "markdown",
   "id": "c3761e83-1612-4e80-8898-3e8c69146159",
   "metadata": {},
   "source": [
    "29. Create a program that removes all non-numeric characters from a list of strings using list comprehension"
   ]
  },
  {
   "cell_type": "code",
   "execution_count": 33,
   "id": "74cbeb35-b015-41a8-808b-e06234ed5b95",
   "metadata": {},
   "outputs": [
    {
     "name": "stdout",
     "output_type": "stream",
     "text": [
      "[24, 140]\n"
     ]
    }
   ],
   "source": [
    "str=\"my age is 24 years and 140 days\"\n",
    "res=[int(i) for i in str.split() if i.isdigit()]\n",
    "print(res)"
   ]
  },
  {
   "cell_type": "markdown",
   "id": "7b1c5892-e31c-4ddb-98fc-7b992536d93a",
   "metadata": {},
   "source": [
    "30. Write a program that creates two lists into dictionary using list comprehension."
   ]
  },
  {
   "cell_type": "code",
   "execution_count": 12,
   "id": "5815fa25-3a19-4c6f-bb6f-49e746fca6cd",
   "metadata": {},
   "outputs": [
    {
     "name": "stdout",
     "output_type": "stream",
     "text": [
      "{'beanie': '7', 'ben': '4'}\n"
     ]
    }
   ],
   "source": [
    "a=['beanie','ben']\n",
    "b=['7','4']\n",
    "res={a[i]:b[i] for i in range(len(a))}\n",
    "print(res)"
   ]
  },
  {
   "cell_type": "markdown",
   "id": "54df0736-3d80-4d45-ab3c-914ce43cd0cf",
   "metadata": {},
   "source": [
    "31. Write a program that generate a list of prime number using seive of Eratosthenes algorithm and list comprehension."
   ]
  },
  {
   "cell_type": "code",
   "execution_count": 21,
   "id": "c6b76921-5841-453e-afb3-ed668758f7cf",
   "metadata": {},
   "outputs": [
    {
     "name": "stdout",
     "output_type": "stream",
     "text": [
      "[1, 3, 5, 7, 9, 11, 13, 15, 17, 19, 21, 23, 25, 27, 29, 31, 33, 35, 37, 39, 41, 43, 45, 47, 49]\n"
     ]
    }
   ],
   "source": [
    "n=50\n",
    "prime_list=[i for i in range(1,n+1) if i<n and i%2!=0]\n",
    "print(prime_list)"
   ]
  },
  {
   "cell_type": "markdown",
   "id": "2a01ebe7-e0a2-4c12-b465-47801a43b3b1",
   "metadata": {},
   "source": [
    "32. Create a program that generates list of pythogorean triplets up to a specified limit using list comprehension"
   ]
  },
  {
   "cell_type": "code",
   "execution_count": 22,
   "id": "f0d7fa9d-361b-4177-8404-a6a574c724ab",
   "metadata": {},
   "outputs": [
    {
     "name": "stdout",
     "output_type": "stream",
     "text": [
      "[(3, 4, 5), (5, 12, 13), (6, 8, 10), (7, 24, 25), (8, 15, 17), (9, 12, 15), (10, 24, 26), (12, 16, 20), (15, 20, 25), (20, 21, 29)]\n"
     ]
    }
   ],
   "source": [
    "pthag = [(x,y,z) for x in range(1,30) for y in range(x,30) for z in range(y,30) if x**2 + y**2 == z**2]\n",
    "\n",
    "print(pthag)"
   ]
  },
  {
   "cell_type": "markdown",
   "id": "aefb13fa-1aa9-4c81-a70d-170692aeacc8",
   "metadata": {},
   "source": [
    "33. DEvelop a program that generates a list of possible all combination of two lists using list comprehension."
   ]
  },
  {
   "cell_type": "code",
   "execution_count": 35,
   "id": "1e14b1f9-e85c-4f78-8a56-08c3e81eade1",
   "metadata": {},
   "outputs": [
    {
     "name": "stdout",
     "output_type": "stream",
     "text": [
      "[['sus', 1], ['sus', 2], ['sus', 3], ['sub', 1], ['sub', 2], ['sub', 3], ['dip', 1], ['dip', 2], ['dip', 3]]\n"
     ]
    }
   ],
   "source": [
    "l1=['sus','sub','dip']\n",
    "l2=[1,2,3]\n",
    "list=[[i,j] for i in l1 for j in l2]\n",
    "print(list)"
   ]
  },
  {
   "cell_type": "markdown",
   "id": "e5a61e6f-c3b0-4bc9-abd8-04c360201a89",
   "metadata": {},
   "source": [
    "34. Write a program that calculates mean,median,mode of a list of numbers using list comprehension."
   ]
  },
  {
   "cell_type": "code",
   "execution_count": null,
   "id": "cc2d3ba7-6a16-4b9d-9054-cce461715cd7",
   "metadata": {},
   "outputs": [],
   "source": []
  },
  {
   "cell_type": "markdown",
   "id": "05f74934-22d9-4ad3-bf5f-c7958f923a35",
   "metadata": {},
   "source": [
    "35. Create a program that generates Pascal's triangle upto a specified number of rows using list comprehension."
   ]
  },
  {
   "cell_type": "code",
   "execution_count": null,
   "id": "61681e8c-f898-43cb-bdd7-a4a6c4ee305e",
   "metadata": {},
   "outputs": [],
   "source": []
  },
  {
   "cell_type": "markdown",
   "id": "50dc65db-3636-441f-864a-a75f24b908b4",
   "metadata": {},
   "source": [
    "36. DEvelop a program that calculate the sum of the digits of a factorial number from 1 to 5 using list comprehension."
   ]
  },
  {
   "cell_type": "code",
   "execution_count": 17,
   "id": "7bef8238-1685-4c21-a8c9-6264814bda98",
   "metadata": {},
   "outputs": [
    {
     "name": "stdout",
     "output_type": "stream",
     "text": [
      "27\n"
     ]
    }
   ],
   "source": [
    "fact=1\n",
    "n=10\n",
    "for i in range(2,n+1):\n",
    "    fact=fact*i\n",
    "    sum=0\n",
    "    for j in str(fact):\n",
    "        sum+=int(j)\n",
    "print(sum)"
   ]
  },
  {
   "cell_type": "markdown",
   "id": "3f31cfd5-a121-4001-b323-6321342bc3ca",
   "metadata": {},
   "source": [
    "37. Write a program that finds the longest word in a sentence using list comprehension."
   ]
  },
  {
   "cell_type": "code",
   "execution_count": 55,
   "id": "232818a6-80c8-4069-88b0-bad1aea14f3e",
   "metadata": {},
   "outputs": [
    {
     "name": "stdout",
     "output_type": "stream",
     "text": [
      "travelling\n"
     ]
    }
   ],
   "source": [
    "str=\"susrita loves travelling\"\n",
    "word=str.split()\n",
    "longest_word = max(word, key=lambda word: len(word))\n",
    "print(longest_word)"
   ]
  },
  {
   "cell_type": "markdown",
   "id": "833f93cb-5509-4323-a00e-0ffaa62709ef",
   "metadata": {},
   "source": [
    "38. Write a program that filters a list of string that include only those with more than 3 vowels using list comprehension."
   ]
  },
  {
   "cell_type": "code",
   "execution_count": 20,
   "id": "59dd86d5-5222-4ddb-a638-ffa45c12fe76",
   "metadata": {},
   "outputs": [
    {
     "name": "stdout",
     "output_type": "stream",
     "text": [
      "Maximum vowels word :  ['volumei', 'maximuma']\n"
     ]
    }
   ],
   "source": [
    "string=['volumei','maximuma','apple','cat']\n",
    "res = []\n",
    "for ele in string:\n",
    "    vow_len = len([el for el in ele if el in ['a', 'e', 'o', 'u', 'i']])\n",
    "    if vow_len > 3:\n",
    "        res.append(ele)\n",
    "print(\"Maximum vowels word : \" , res)\n"
   ]
  },
  {
   "cell_type": "markdown",
   "id": "1377d7ed-1fce-433e-a21d-69b88ebbd6b1",
   "metadata": {},
   "source": [
    "39. Develop a program that calculates sum of the digits of numbers from 1 to 1000 using list comprehension. "
   ]
  },
  {
   "cell_type": "code",
   "execution_count": 6,
   "id": "b1d8791d-c460-4c33-ba26-9ad9261fd36d",
   "metadata": {},
   "outputs": [
    {
     "name": "stdout",
     "output_type": "stream",
     "text": [
      "500500\n"
     ]
    }
   ],
   "source": [
    "digit=sum([i for i in range(1,1001)])\n",
    "print(digit)"
   ]
  },
  {
   "cell_type": "markdown",
   "id": "478cb5d6-3286-49ad-b1d9-3e94b0669547",
   "metadata": {},
   "source": [
    "40. Write a program that generates a list of prime palindronic numbers using list comprehension."
   ]
  },
  {
   "cell_type": "code",
   "execution_count": 8,
   "id": "13488129-7add-4e94-84e7-5263308c1bd5",
   "metadata": {},
   "outputs": [
    {
     "name": "stdout",
     "output_type": "stream",
     "text": [
      "[11, 33, 55, 77, 99, 101, 111, 121, 131, 141, 151, 161, 171, 181, 191, 303, 313, 323, 333, 343, 353, 363, 373, 383, 393]\n"
     ]
    }
   ],
   "source": [
    "prime=[i for i in range(11,501) if i%2!=0 and str(i)==str(i)[::-1]]\n",
    "print(prime)"
   ]
  },
  {
   "cell_type": "code",
   "execution_count": null,
   "id": "7e31aa54-b705-459e-a326-25b629e05a76",
   "metadata": {},
   "outputs": [],
   "source": []
  }
 ],
 "metadata": {
  "kernelspec": {
   "display_name": "Python 3 (ipykernel)",
   "language": "python",
   "name": "python3"
  },
  "language_info": {
   "codemirror_mode": {
    "name": "ipython",
    "version": 3
   },
   "file_extension": ".py",
   "mimetype": "text/x-python",
   "name": "python",
   "nbconvert_exporter": "python",
   "pygments_lexer": "ipython3",
   "version": "3.10.8"
  }
 },
 "nbformat": 4,
 "nbformat_minor": 5
}
